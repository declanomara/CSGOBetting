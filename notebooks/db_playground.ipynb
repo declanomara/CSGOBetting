{
 "cells": [
  {
   "cell_type": "code",
   "execution_count": 3,
   "metadata": {},
   "outputs": [],
   "source": [
    "import sys\n",
    "sys.path.append(\"../src\")\n",
    "\n",
    "from models import *\n",
    "from database import Database\n",
    "\n",
    "DB_PATH = \"../matches.db\"\n",
    "db = Database(DB_PATH)"
   ]
  },
  {
   "cell_type": "code",
   "execution_count": 7,
   "metadata": {},
   "outputs": [
    {
     "name": "stdout",
     "output_type": "stream",
     "text": [
      "Astralis vs BIG @ 2024-01-28 05:30:56\n",
      "    Existing value: $1697.66 vs $108.19\n",
      "    (Lounge) 94.01% vs 5.99%\n",
      "    (Bovada) 68.39% vs 31.61%\n",
      "    Payout: 1.06x vs 16.69x\n",
      "    Expected Value: $-0.27 vs $4.28\n",
      "\n",
      "G2 vs Team Liquid @ 2024-01-28 08:00:56\n",
      "    Existing value: $66.91 vs $222.15\n",
      "    (Lounge) 23.15% vs 76.85%\n",
      "    (Bovada) 57.21% vs 42.79%\n",
      "    Payout: 4.32x vs 1.30x\n",
      "    Expected Value: $1.47 vs $-0.44\n",
      "\n",
      "Cloud9 vs Rebels Gaming @ 2024-01-31 06:30:04\n",
      "    Existing value: $15.73 vs $0.03\n",
      "    (Lounge) 99.79% vs 0.21%\n",
      "    (Bovada) 54.16% vs 45.84%\n",
      "    Payout: 1.00x vs 477.55x\n",
      "    Expected Value: $-0.46 vs $217.92\n",
      "\n",
      "Eternal Fire vs BB Team @ 2024-01-31 06:30:04\n",
      "    Existing value: $15.73 vs $0.03\n",
      "    (Lounge) 99.79% vs 0.21%\n",
      "    (Bovada) 54.16% vs 45.84%\n",
      "    Payout: 1.00x vs 477.55x\n",
      "    Expected Value: $-0.46 vs $217.92\n",
      "\n",
      "Ence vs BIG @ 2024-01-31 07:30:04\n",
      "    Existing value: $0.03 vs $0.22\n",
      "    (Lounge) 13.04% vs 86.96%\n",
      "    (Bovada) 37.97% vs 62.03%\n",
      "    Payout: 7.67x vs 1.15x\n",
      "    Expected Value: $1.91 vs $-0.29\n",
      "\n",
      "Heroic vs Astralis @ 2024-01-31 07:30:04\n",
      "    Existing value: $0.03 vs $0.22\n",
      "    (Lounge) 13.04% vs 86.96%\n",
      "    (Bovada) 37.97% vs 62.03%\n",
      "    Payout: 7.67x vs 1.15x\n",
      "    Expected Value: $1.91 vs $-0.29\n",
      "\n",
      "FURIA Esports vs TheMongolz @ 2024-01-31 08:30:04\n",
      "    Existing value: $1.04 vs $0.10\n",
      "    (Lounge) 91.35% vs 8.65%\n",
      "    (Bovada) 68.85% vs 31.15%\n",
      "    Payout: 1.09x vs 11.56x\n",
      "    Expected Value: $-0.25 vs $2.60\n",
      "\n",
      "Team Spirit vs Apeks @ 2024-01-31 08:30:04\n",
      "    Existing value: $1.04 vs $0.10\n",
      "    (Lounge) 91.35% vs 8.65%\n",
      "    (Bovada) 68.85% vs 31.15%\n",
      "    Payout: 1.09x vs 11.56x\n",
      "    Expected Value: $-0.25 vs $2.60\n",
      "\n",
      "GamerLegion vs M80 @ 2024-01-31 09:30:04\n",
      "    Existing value: $0.22 vs $3.08\n",
      "    (Lounge) 6.70% vs 93.30%\n",
      "    (Bovada) 10.50% vs 89.50%\n",
      "    Payout: 14.92x vs 1.07x\n",
      "    Expected Value: $0.57 vs $-0.04\n",
      "\n",
      "Rooster vs Virtus.pro @ 2024-01-31 09:30:04\n",
      "    Existing value: $0.22 vs $3.08\n",
      "    (Lounge) 6.70% vs 93.30%\n",
      "    (Bovada) 10.50% vs 89.50%\n",
      "    Payout: 14.92x vs 1.07x\n",
      "    Expected Value: $0.57 vs $-0.04\n",
      "\n",
      "ECSTATIC vs Sangal Esports @ 2024-01-28 03:30:06\n",
      "    Existing value: $93.83 vs $4.22\n",
      "    (Lounge) 95.69% vs 4.31%\n",
      "    (Bovada) 67.68% vs 32.32%\n",
      "    Payout: 1.05x vs 23.22x\n",
      "    Expected Value: $-0.29 vs $6.50\n",
      "\n",
      "Into The Breach vs BIG OMEN Academy @ 2024-01-29 01:00:06\n",
      "    Existing value: $0.46 vs $0.46\n",
      "    (Lounge) 50.11% vs 49.89%\n",
      "    (Bovada) 57.21% vs 42.79%\n",
      "    Payout: 2.00x vs 2.00x\n",
      "    Expected Value: $0.14 vs $-0.14\n",
      "\n",
      "Bleed vs Metizport @ 2024-01-29 03:30:06\n",
      "    Existing value: $0.22 vs $0.23\n",
      "    (Lounge) 48.89% vs 51.11%\n",
      "    (Bovada) 59.93% vs 40.07%\n",
      "    Payout: 2.05x vs 1.96x\n",
      "    Expected Value: $0.23 vs $-0.22\n",
      "\n",
      "Sprout vs Nigma Galaxy @ 2024-01-29 03:00:00\n",
      "    Existing value: $0.23 vs $0.06\n",
      "    (Lounge) 80.77% vs 19.23%\n",
      "    (Bovada) 94.11% vs 5.89%\n",
      "    Payout: 1.24x vs 5.20x\n",
      "    Expected Value: $0.17 vs $-0.69\n",
      "\n",
      "Total matches: 14\n"
     ]
    }
   ],
   "source": [
    "# Get all matches from the database\n",
    "matches = db.get_matches()\n",
    "\n",
    "for match in matches:\n",
    "    match.pprint()\n",
    "    print()\n",
    "\n",
    "print(f\"Total matches: {len(matches)}\")"
   ]
  },
  {
   "cell_type": "code",
   "execution_count": 6,
   "metadata": {},
   "outputs": [
    {
     "data": {
      "text/plain": [
       "<sqlite3.Cursor at 0x1090c3bc0>"
      ]
     },
     "execution_count": 6,
     "metadata": {},
     "output_type": "execute_result"
    }
   ],
   "source": [
    "# Add an integer column to the matches table called 'last_updated' using ALTER_TABLE\n",
    "db._cur.execute(\"ALTER TABLE matches ADD COLUMN last_updated INTEGER\")"
   ]
  },
  {
   "cell_type": "code",
   "execution_count": null,
   "metadata": {},
   "outputs": [],
   "source": []
  }
 ],
 "metadata": {
  "kernelspec": {
   "display_name": ".venv",
   "language": "python",
   "name": "python3"
  },
  "language_info": {
   "codemirror_mode": {
    "name": "ipython",
    "version": 3
   },
   "file_extension": ".py",
   "mimetype": "text/x-python",
   "name": "python",
   "nbconvert_exporter": "python",
   "pygments_lexer": "ipython3",
   "version": "3.11.7"
  }
 },
 "nbformat": 4,
 "nbformat_minor": 2
}
