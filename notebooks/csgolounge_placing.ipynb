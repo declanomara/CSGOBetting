{
 "cells": [
  {
   "cell_type": "code",
   "execution_count": 70,
   "metadata": {},
   "outputs": [],
   "source": [
    "import requests\n",
    "import json\n",
    "import datetime\n",
    "from pprint import pprint\n",
    "\n",
    "\n",
    "API_URL = \"http://dserver:8000/matches\"\n",
    "\n",
    "session = requests.Session()\n",
    "\n",
    "# Make the user agent look like a browser\n",
    "session.headers.update({\n",
    "    'User-Agent': 'Mozilla/5.0 (X11; Linux x86_64; rv:24.0) Gecko/20140624 Firefox/24.0 Iceweasel/24.7.0'\n",
    "})\n"
   ]
  },
  {
   "cell_type": "code",
   "execution_count": 87,
   "metadata": {},
   "outputs": [
    {
     "name": "stdout",
     "output_type": "stream",
     "text": [
      "Logging in...Done\n",
      "Getting session...{'cookie': {'PHPSESSID': 'n5cucg0g6doliq4ue53iib94a7'}, 'token': 'zS659dFqy6cNTrl325pd6m1'}\n"
     ]
    }
   ],
   "source": [
    "# Import selenium and chrome webdriver\n",
    "from selenium import webdriver\n",
    "from selenium.webdriver.chrome.options import Options\n",
    "from selenium.webdriver.support.ui import WebDriverWait\n",
    "from selenium.webdriver.support import expected_conditions\n",
    "from selenium.common.exceptions import TimeoutException\n",
    "from selenium.webdriver.common.by import By\n",
    "\n",
    "import time\n",
    "import random\n",
    "\n",
    "STEAM_BASE_URL = \"https://steamcommunity.com\"\n",
    "LOGIN_REDIRECT_URL = \"https://steamcommunity.com/openid/login?openid.ns=http%3A%2F%2Fspecs.openid.net%2Fauth%2F2.0&openid.mode=checkid_setup&openid.return_to=https%3A%2F%2Fdota2.net%2Flogin%2Findex.php%3Fgetmid%3Dcsgolounge%26login%3D1&openid.realm=https%3A%2F%2Fdota2.net&openid.ns.sreg=http%3A%2F%2Fopenid.net%2Fextensions%2Fsreg%2F1.1&openid.claimed_id=http%3A%2F%2Fspecs.openid.net%2Fauth%2F2.0%2Fidentifier_select&openid.identity=http%3A%2F%2Fspecs.openid.net%2Fauth%2F2.0%2Fidentifier_select\"\n",
    "LOGIN_URL = \"https://csgolounge.com/login/\"\n",
    "MY_BETS_URL = \"https://csgolounge.com/mybets/\"\n",
    "LOUNGE_URL = \"https://csgolounge.com/\"\n",
    "\n",
    "STEAM_LOGIN_BUTTON_ID = \"imageLogin\"\n",
    "\n",
    "\n",
    "def login_to_csgolounge(driver):\n",
    "    # Load Steam home page before injecting Steam cookies\n",
    "    driver.get(STEAM_BASE_URL)\n",
    "\n",
    "    # Load cookies from file\n",
    "    with open(\"cookies.json\", \"r\") as f:\n",
    "        cookies = json.load(f)\n",
    "\n",
    "    # Add cookies to driver\n",
    "    for cookie in cookies:\n",
    "        driver.add_cookie(cookie)\n",
    "\n",
    "    driver.get(LOGIN_REDIRECT_URL)\n",
    "\n",
    "    # driver.save_screenshot(\"before_login_button.png\")\n",
    "\n",
    "    # Wait for the login button to appear\n",
    "    WebDriverWait(driver, 10).until(\n",
    "        expected_conditions.element_to_be_clickable((By.ID, STEAM_LOGIN_BUTTON_ID))\n",
    "    )\n",
    "\n",
    "    # driver.save_screenshot(\"after_login_button.png\")\n",
    "\n",
    "    # Wait a random amount of time before clicking the login button\n",
    "    time.sleep(random.randint(1, 6) / 2)\n",
    "\n",
    "    # Click the login button\n",
    "    driver.find_element(By.ID, STEAM_LOGIN_BUTTON_ID).click()\n",
    "\n",
    "    # Wait for the login to complete\n",
    "    time.sleep(5)\n",
    "\n",
    "    # Redirect to lounge login endpoint (sometimes this is unnecessary)\n",
    "    driver.get(LOGIN_URL)\n",
    "    \n",
    "\n",
    "def get_lounge_session_cookie(driver):\n",
    "    if not driver.current_url.startswith(LOUNGE_URL):\n",
    "        print(f\"Driver url: {driver.current_url} \\n redirecting to {LOUNGE_URL}\")\n",
    "        driver.get(LOUNGE_URL)\n",
    "\n",
    "    return {\"PHPSESSID\": driver.get_cookie(\"PHPSESSID\")[\"value\"]}\n",
    "\n",
    "def get_lounge_session_token(driver):\n",
    "    # Token is stored as javascript variable GetSessionToken\n",
    "    if driver.current_url != LOUNGE_URL:\n",
    "        driver.get(LOUNGE_URL)\n",
    "\n",
    "    token = driver.execute_script(\"return GetSessionToken\")\n",
    "    return token\n",
    "\n",
    "def get_lounge_session(driver):\n",
    "    lounge_session = {\n",
    "        \"cookie\": get_lounge_session_cookie(driver),\n",
    "        \"token\": get_lounge_session_token(driver)\n",
    "    }\n",
    "    # driver.save_screenshot(\"lounge_session.png\")\n",
    "    return lounge_session\n",
    "\n",
    "def setup_driver():\n",
    "    # Set up chrome webdriver\n",
    "    chrome_options = webdriver.ChromeOptions()\n",
    "    chrome_options.add_argument(\"--headless\")\n",
    "    chrome_options.add_argument(\"--window-size=1280,720\")\n",
    "    chrome_options.add_argument(\"--disable-gpu\")\n",
    "\n",
    "    # Use existing chrome profile\n",
    "    chrome_user_data_dir = \"./chrome_user_data/\"\n",
    "    chrome_options.add_argument(f\"user-data-dir={chrome_user_data_dir}\")\n",
    "    chrome_options.add_argument(\"--profile-directory=Default\")\n",
    "\n",
    "    return webdriver.Chrome(options=chrome_options)\n",
    "\n",
    "\n",
    "\n",
    "driver = setup_driver()\n",
    "\n",
    "try:\n",
    "    # Login to csgolounge\n",
    "    print(\"Logging in...\", end=\"\")\n",
    "    login_to_csgolounge(driver)\n",
    "    print(\"Done\")\n",
    "\n",
    "    # Get session cookie and token\n",
    "    print(\"Getting session...\", end=\"\")\n",
    "    lounge_session = get_lounge_session(driver)\n",
    "    print(lounge_session)\n",
    "\n",
    "    # Save cookies for next time\n",
    "    driver.get(STEAM_BASE_URL)\n",
    "    cookies = driver.get_cookies()\n",
    "    with open(\"cookies.json\", \"w+\") as f:\n",
    "        json.dump(cookies, f)\n",
    "\n",
    "    driver.quit()\n",
    "except Exception as e:\n",
    "    driver.save_screenshot(\"error.png\")\n",
    "    driver.quit()\n",
    "    raise e\n",
    "\n"
   ]
  },
  {
   "cell_type": "code",
   "execution_count": 84,
   "metadata": {},
   "outputs": [
    {
     "name": "stdout",
     "output_type": "stream",
     "text": [
      "Using match: {'id': 505349, 'time': '2024-01-30T01:00:47', 'competitors': ['Preasy', 'Entropiq'], 'status': '0', 'existing_value': [60.3231, 26.278], 'lounge_odds': [0.6965627457387954, 0.3034372542612045], 'bovada_odds': [0.6875, 0.3125], 'lounge_multiplier': [1.4356208483980433, 3.295574244615268], 'expected_value': [-0.01301066672634521, 0.02986695144227114], 'last_updated': 1706573523}\n"
     ]
    }
   ],
   "source": [
    "matches = session.get(API_URL).json()\n",
    "# parse str(2024-01-31T06:30:04) into seconds using datetime\n",
    "def parse_time(time):\n",
    "    return datetime.datetime.strptime(time, \"%Y-%m-%dT%H:%M:%S\").timestamp()\n",
    "\n",
    "matches.sort(key=lambda x: parse_time(x['time']))\n",
    "# pprint(matches)\n",
    "\n",
    "id = matches[0]['id']\n",
    "side = 2\n",
    "bet_size = 1\n",
    "\n",
    "print(f\"Using match: {matches[0]}\")"
   ]
  },
  {
   "cell_type": "code",
   "execution_count": 89,
   "metadata": {},
   "outputs": [
    {
     "name": "stdout",
     "output_type": "stream",
     "text": [
      "zS659dFqy6cNTrl325pd6m1\n",
      "{\"success\":true}\n"
     ]
    }
   ],
   "source": [
    "from IPython.display import HTML\n",
    "token = lounge_session['token']\n",
    "cookies = lounge_session['cookie']\n",
    "\n",
    "\n",
    "place_endpoint = f\"/index/placebet/{id}/{side}/{bet_size}/{token}/\"\n",
    "cancel_endpoint = f\"/index/cancelbet/{id}/{token}/\"\n",
    "my_bets_endpoint = \"/mybets/\"\n",
    "\n",
    "URL = LOUNGE_URL + cancel_endpoint\n",
    "response = session.get(URL, cookies=cookies)\n",
    "\n",
    "print(response.text)"
   ]
  },
  {
   "cell_type": "code",
   "execution_count": null,
   "metadata": {},
   "outputs": [
    {
     "name": "stdout",
     "output_type": "stream",
     "text": [
      "https://dota2.net/login/index.php?getmid=csgolounge&login=1&openid.ns=http://specs.openid.net/auth/2.0&openid.mode=id_res&openid.op_endpoint=https://steamcommunity.com/openid/login&openid.claimed_id=https://steamcommunity.com/openid/id/76561198372485576&openid.identity=https://steamcommunity.com/openid/id/76561198372485576&openid.return_to=https://dota2.net/login/index.php?getmid=csgolounge&login=1&openid.response_nonce=2024-01-29T22:05:26ZDYSkED4RElLs+yk0lblV0Gw7iLk=&openid.assoc_handle=1234567890&openid.signed=signed,op_endpoint,claimed_id,identity,return_to,response_nonce,assoc_handle&openid.sig=RamQfnVufHA4TRCii8hsh32Ubq0=\n"
     ]
    }
   ],
   "source": [
    "import urllib\n",
    "\n",
    "login_redirect_url = \"https://steamcommunity.com/openid/login?openid.ns=http%3A%2F%2Fspecs.openid.net%2Fauth%2F2.0&openid.mode=checkid_setup&openid.return_to=https%3A%2F%2Fdota2.net%2Flogin%2Findex.php%3Fgetmid%3Dcsgolounge%26login%3D1&openid.realm=https%3A%2F%2Fdota2.net&openid.ns.sreg=http%3A%2F%2Fopenid.net%2Fextensions%2Fsreg%2F1.1&openid.claimed_id=http%3A%2F%2Fspecs.openid.net%2Fauth%2F2.0%2Fidentifier_select&openid.identity=http%3A%2F%2Fspecs.openid.net%2Fauth%2F2.0%2Fidentifier_select\"\n",
    "\n",
    "steam_redirect_url = \"https://dota2.net/login/index.php?getmid=csgolounge&login=1&openid.ns=http%3A%2F%2Fspecs.openid.net%2Fauth%2F2.0&openid.mode=id_res&openid.op_endpoint=https%3A%2F%2Fsteamcommunity.com%2Fopenid%2Flogin&openid.claimed_id=https%3A%2F%2Fsteamcommunity.com%2Fopenid%2Fid%2F76561198372485576&openid.identity=https%3A%2F%2Fsteamcommunity.com%2Fopenid%2Fid%2F76561198372485576&openid.return_to=https%3A%2F%2Fdota2.net%2Flogin%2Findex.php%3Fgetmid%3Dcsgolounge%26login%3D1&openid.response_nonce=2024-01-29T22%3A05%3A26ZDYSkED4RElLs%2Byk0lblV0Gw7iLk%3D&openid.assoc_handle=1234567890&openid.signed=signed%2Cop_endpoint%2Cclaimed_id%2Cidentity%2Creturn_to%2Cresponse_nonce%2Cassoc_handle&openid.sig=RamQfnVufHA4TRCii8hsh32Ubq0%3D\"\n",
    "parsed = urllib.parse.unquote(steam_redirect_url, encoding='utf-8', errors='replace')\n",
    "\n",
    "print(parsed)\n"
   ]
  },
  {
   "cell_type": "code",
   "execution_count": null,
   "metadata": {},
   "outputs": [
    {
     "name": "stdout",
     "output_type": "stream",
     "text": [
      "True\n",
      "https://csgolounge.com/\n"
     ]
    }
   ],
   "source": [
    "print(\"https://csgolounge.com/match/505349/\".startswith(\"https://csgolounge.com/\"))\n",
    "print(LOUNGE_URL)"
   ]
  }
 ],
 "metadata": {
  "kernelspec": {
   "display_name": ".venv",
   "language": "python",
   "name": "python3"
  },
  "language_info": {
   "codemirror_mode": {
    "name": "ipython",
    "version": 3
   },
   "file_extension": ".py",
   "mimetype": "text/x-python",
   "name": "python",
   "nbconvert_exporter": "python",
   "pygments_lexer": "ipython3",
   "version": "3.11.7"
  }
 },
 "nbformat": 4,
 "nbformat_minor": 2
}
