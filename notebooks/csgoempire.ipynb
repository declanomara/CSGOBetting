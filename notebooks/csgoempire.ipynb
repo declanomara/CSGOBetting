{
 "cells": [
  {
   "cell_type": "code",
   "execution_count": 27,
   "metadata": {},
   "outputs": [
    {
     "name": "stdout",
     "output_type": "stream",
     "text": [
      "status: 200 OK\n",
      "url: https://csgoempire.com/withdraw/steam/market\n",
      "cookies: <RequestsCookieJar[<Cookie env_class=green for csgoempire.com/>, <Cookie __cf_bm=L4ekcPjzwCvcFOTEy8LBvbkeaz.LcvSrpDcMgZ4.baQ-1706391403-1-AQP8FnBdU4dLqEYVKX0m/GU37C3XRZJrj+MKyddfRUs+Kl7QAKhfVKYyTRDKXNlHEk1IkHjQmMpGebBRSuYDhp4= for .csgoempire.com/>]>\n",
      "status: 403 Forbidden\n",
      "url: https://csgoempire.com/api/v2/trading/items?per_page=160&page=1&delivery_time_long_max=720&auction=yes&sort=desc&order=market_value\n",
      "cookies: <RequestsCookieJar[]>\n",
      "<RequestsCookieJar[<Cookie env_class=green for csgoempire.com/>, <Cookie __cf_bm=L4ekcPjzwCvcFOTEy8LBvbkeaz.LcvSrpDcMgZ4.baQ-1706391403-1-AQP8FnBdU4dLqEYVKX0m/GU37C3XRZJrj+MKyddfRUs+Kl7QAKhfVKYyTRDKXNlHEk1IkHjQmMpGebBRSuYDhp4= for .csgoempire.com/>]>\n"
     ]
    }
   ],
   "source": [
    "import requests\n",
    "import cfscrape\n",
    "\n",
    "\n",
    "URL = \"https://www.csgoempire.com\"\n",
    "MARKET_ENDPOINT = \"/api/v2/trading/items\"\n",
    "TEST_ENDPOINT = \"/api/v2/trading/items?per_page=160&page=1&delivery_time_long_max=720&auction=yes&sort=desc&order=market_value\"\n",
    "TEST_URL = \"https://csgoempire.com/withdraw/steam/market\"\n",
    "TEST_URL_2 = \"https://csgoempire.com/api/v2/trading/items?per_page=160&page=1&delivery_time_long_max=720&auction=yes&sort=desc&order=market_value\"\n",
    "\n",
    "scraper = cfscrape.create_scraper()\n",
    "headers = {'User-Agent': 'Mozilla/5.0 (X11; Ubuntu; Linux x86_64; rv:15.0) Gecko/20100101 Firefox/15.0.1'}\n",
    "response = scraper.get(TEST_URL)\n",
    "\n",
    "print(f\"status: {response.status_code} {response.reason}\") \n",
    "print(f\"url: {response.url}\")\n",
    "print(f\"cookies: {response.cookies}\")\n",
    "\n",
    "response = scraper.get(TEST_URL_2)\n",
    "print(f\"status: {response.status_code} {response.reason}\")\n",
    "print(f\"url: {response.url}\")\n",
    "print(f\"cookies: {response.cookies}\")\n",
    "\n",
    "print(scraper.cookies)"
   ]
  },
  {
   "cell_type": "code",
   "execution_count": null,
   "metadata": {},
   "outputs": [],
   "source": [
    "from IPython.display import HTML\n",
    "HTML(response.text)"
   ]
  },
  {
   "cell_type": "code",
   "execution_count": 6,
   "metadata": {},
   "outputs": [
    {
     "name": "stdout",
     "output_type": "stream",
     "text": [
      "hello world\n"
     ]
    }
   ],
   "source": [
    "print(\"hello world\")"
   ]
  },
  {
   "cell_type": "code",
   "execution_count": 38,
   "metadata": {},
   "outputs": [],
   "source": [
    "# Use selenium to make a request with headless Chrome\n",
    "\n",
    "from selenium import webdriver\n",
    "from selenium.webdriver.chrome.options import Options\n",
    "\n",
    "from time import sleep\n",
    "\n",
    "chrome_options = Options()\n",
    "chrome_options.add_argument(\"--headless\")\n",
    "chrome_options.add_argument(\"--disable-gpu\")\n",
    "chrome_options.add_argument(\"--window-size=1920x1080\")\n",
    "\n",
    "# Make user agent look like a real browser\n",
    "chrome_options.add_argument(\"user-agent=Mozilla/5.0 (X11; Linux x86_64) AppleWebKit/537.36 (KHTML, like Gecko) Chrome/87.0.4240.111 Safari/537.36\")\n",
    "\n",
    "driver = webdriver.Chrome(options=chrome_options)\n",
    "\n",
    "driver.get(TEST_URL)\n",
    "html = driver.page_source\n",
    "sleep(1)\n",
    "driver.get(TEST_URL_2)\n",
    "html2 = driver.page_source\n",
    "driver.quit()"
   ]
  },
  {
   "cell_type": "code",
   "execution_count": null,
   "metadata": {},
   "outputs": [],
   "source": [
    "#  Display driver page\n",
    "from IPython.display import HTML\n",
    "HTML(html)"
   ]
  },
  {
   "cell_type": "code",
   "execution_count": null,
   "metadata": {},
   "outputs": [],
   "source": []
  }
 ],
 "metadata": {
  "kernelspec": {
   "display_name": ".venv",
   "language": "python",
   "name": "python3"
  },
  "language_info": {
   "codemirror_mode": {
    "name": "ipython",
    "version": 3
   },
   "file_extension": ".py",
   "mimetype": "text/x-python",
   "name": "python",
   "nbconvert_exporter": "python",
   "pygments_lexer": "ipython3",
   "version": "3.11.7"
  }
 },
 "nbformat": 4,
 "nbformat_minor": 2
}
